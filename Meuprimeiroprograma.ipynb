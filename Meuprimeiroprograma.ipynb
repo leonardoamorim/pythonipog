{
  "nbformat": 4,
  "nbformat_minor": 0,
  "metadata": {
    "colab": {
      "name": "Meuprimeiroprograma.ipynb",
      "provenance": []
    },
    "kernelspec": {
      "name": "python3",
      "display_name": "Python 3"
    }
  },
  "cells": [
    {
      "cell_type": "code",
      "metadata": {
        "id": "3rkPQAlIt2pT"
      },
      "source": [
        "nome = \"Leonardo Afonso Amorim\""
      ],
      "execution_count": 1,
      "outputs": []
    },
    {
      "cell_type": "code",
      "metadata": {
        "colab": {
          "base_uri": "https://localhost:8080/"
        },
        "id": "cI-GQaExwzbW",
        "outputId": "44a32af0-1223-4be2-a876-55269334d3ae"
      },
      "source": [
        "print(nome)"
      ],
      "execution_count": 2,
      "outputs": [
        {
          "output_type": "stream",
          "text": [
            "Leonardo Afonso Amorim\n"
          ],
          "name": "stdout"
        }
      ]
    },
    {
      "cell_type": "code",
      "metadata": {
        "id": "0qQuUoZFyCCw"
      },
      "source": [
        "nome = \"Leo\""
      ],
      "execution_count": 3,
      "outputs": []
    },
    {
      "cell_type": "code",
      "metadata": {
        "colab": {
          "base_uri": "https://localhost:8080/"
        },
        "id": "qTzwWLPiyFD3",
        "outputId": "18f1295b-87ed-492f-e69b-0eeab9f5b2c7"
      },
      "source": [
        "print(nome)"
      ],
      "execution_count": 4,
      "outputs": [
        {
          "output_type": "stream",
          "text": [
            "Leo\n"
          ],
          "name": "stdout"
        }
      ]
    },
    {
      "cell_type": "code",
      "metadata": {
        "colab": {
          "base_uri": "https://localhost:8080/"
        },
        "id": "fL41pG53yPMD",
        "outputId": "6956adb4-bfa4-48bf-ac64-c9934cadc2ae"
      },
      "source": [
        "nome = input(\"Qual a melhor linguagem de programação?\")"
      ],
      "execution_count": 5,
      "outputs": [
        {
          "output_type": "stream",
          "text": [
            "Qual a melhor linguagem de programação?python\n"
          ],
          "name": "stdout"
        }
      ]
    },
    {
      "cell_type": "code",
      "metadata": {
        "colab": {
          "base_uri": "https://localhost:8080/"
        },
        "id": "a25ds_1PyY5A",
        "outputId": "edd588ea-066f-4421-8743-3c8f0733b626"
      },
      "source": [
        "print(nome)"
      ],
      "execution_count": 6,
      "outputs": [
        {
          "output_type": "stream",
          "text": [
            "python\n"
          ],
          "name": "stdout"
        }
      ]
    },
    {
      "cell_type": "code",
      "metadata": {
        "id": "sgLmgT3czpog"
      },
      "source": [
        "nome = 'Leonardo Afonso Amorim'"
      ],
      "execution_count": 7,
      "outputs": []
    },
    {
      "cell_type": "code",
      "metadata": {
        "colab": {
          "base_uri": "https://localhost:8080/"
        },
        "id": "dlKI9MX0zwA-",
        "outputId": "24847ed0-6c65-41a8-8342-2f35ea86ad35"
      },
      "source": [
        "type(nome)"
      ],
      "execution_count": 8,
      "outputs": [
        {
          "output_type": "execute_result",
          "data": {
            "text/plain": [
              "str"
            ]
          },
          "metadata": {
            "tags": []
          },
          "execution_count": 8
        }
      ]
    },
    {
      "cell_type": "code",
      "metadata": {
        "id": "psfyXXqZ0iwY"
      },
      "source": [
        "nome = nome[0:3]"
      ],
      "execution_count": 9,
      "outputs": []
    },
    {
      "cell_type": "code",
      "metadata": {
        "id": "CQL1WyDw2lCb",
        "outputId": "24c839b0-eebb-4e52-94ea-974926c59f32",
        "colab": {
          "base_uri": "https://localhost:8080/"
        }
      },
      "source": [
        "print(nome)"
      ],
      "execution_count": 10,
      "outputs": [
        {
          "output_type": "stream",
          "text": [
            "Leo\n"
          ],
          "name": "stdout"
        }
      ]
    },
    {
      "cell_type": "code",
      "metadata": {
        "id": "re185kEP21OV"
      },
      "source": [
        "if nome == 'leo':\n",
        "  print(\"Você acertou\")\n",
        "  print(\"Parabéns\") \n",
        "\n"
      ],
      "execution_count": 11,
      "outputs": []
    }
  ]
}