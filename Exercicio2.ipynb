{
  "nbformat": 4,
  "nbformat_minor": 0,
  "metadata": {
    "colab": {
      "name": "Exercicio2.ipynb",
      "provenance": [],
      "collapsed_sections": []
    },
    "kernelspec": {
      "name": "python3",
      "display_name": "Python 3"
    }
  },
  "cells": [
    {
      "cell_type": "code",
      "metadata": {
        "id": "JhAdEubhToMX"
      },
      "source": [
        "notas = [5.5, 5, 7, 9, 6]"
      ],
      "execution_count": 1,
      "outputs": []
    },
    {
      "cell_type": "code",
      "metadata": {
        "colab": {
          "base_uri": "https://localhost:8080/"
        },
        "id": "VQ-6POdlTy14",
        "outputId": "01bbeaf9-08ff-4dc1-ab1d-d19d5d193726"
      },
      "source": [
        "len(notas)"
      ],
      "execution_count": 2,
      "outputs": [
        {
          "output_type": "execute_result",
          "data": {
            "text/plain": [
              "5"
            ]
          },
          "metadata": {
            "tags": []
          },
          "execution_count": 2
        }
      ]
    },
    {
      "cell_type": "code",
      "metadata": {
        "id": "86jsyrjXT3_y"
      },
      "source": [
        "nomes = [ \"A\", \"B\", \"C\", \"D\", \"E\"]"
      ],
      "execution_count": 3,
      "outputs": []
    },
    {
      "cell_type": "code",
      "metadata": {
        "id": "5yV7_WUzT-OA"
      },
      "source": [
        "def media(listaDeNotas):\n",
        "  soma = 0\n",
        "  for i in range(len(listaDeNotas)):\n",
        "    soma = soma + listaDeNotas[i]\n",
        "  return soma/len(listaDeNotas)"
      ],
      "execution_count": 38,
      "outputs": []
    },
    {
      "cell_type": "code",
      "metadata": {
        "colab": {
          "base_uri": "https://localhost:8080/"
        },
        "id": "FvscoAzfd5S4",
        "outputId": "4a624392-18ad-4793-f3e0-b31079d5ea41"
      },
      "source": [
        "media(notas)"
      ],
      "execution_count": 39,
      "outputs": [
        {
          "output_type": "execute_result",
          "data": {
            "text/plain": [
              "6.5"
            ]
          },
          "metadata": {
            "tags": []
          },
          "execution_count": 39
        }
      ]
    },
    {
      "cell_type": "code",
      "metadata": {
        "id": "eXg8iX4xV0kj"
      },
      "source": [
        "def maiorNota(listaDeNotas):\n",
        "  maior = 0\n",
        "  for i in range(5):\n",
        "    if listaDeNotas[i] > maior:\n",
        "      maior = listaDeNotas[i]\n",
        "  return maior"
      ],
      "execution_count": 41,
      "outputs": []
    },
    {
      "cell_type": "code",
      "metadata": {
        "colab": {
          "base_uri": "https://localhost:8080/"
        },
        "id": "9KUBs-GkWTI9",
        "outputId": "c69d496e-9e64-4188-f48a-7407ff61cfe6"
      },
      "source": [
        "maiorNota(notas)"
      ],
      "execution_count": 42,
      "outputs": [
        {
          "output_type": "execute_result",
          "data": {
            "text/plain": [
              "9"
            ]
          },
          "metadata": {
            "tags": []
          },
          "execution_count": 42
        }
      ]
    },
    {
      "cell_type": "code",
      "metadata": {
        "id": "xHkJ3pumW4_J"
      },
      "source": [
        "def geraListasAprovacaoReprovacao(listaDeNotas):\n",
        "  aprovados = []\n",
        "  reprovados = []\n",
        "  for i in range(5):\n",
        "    if notas[i] >= 7:\n",
        "      aprovados.append(nomes[i])\n",
        "    else:\n",
        "      reprovados.append(nomes[i])\n",
        "  return aprovados, reprovados"
      ],
      "execution_count": 43,
      "outputs": []
    },
    {
      "cell_type": "code",
      "metadata": {
        "id": "RssDbY1GXI6a"
      },
      "source": [
        "lista_aprovados, lista_reprovados = geraListasAprovacaoReprovacao(notas)"
      ],
      "execution_count": 44,
      "outputs": []
    },
    {
      "cell_type": "code",
      "metadata": {
        "colab": {
          "base_uri": "https://localhost:8080/"
        },
        "id": "wFghc-B5XK91",
        "outputId": "4b2d194e-425b-40e8-d4e7-9069ec4daa1e"
      },
      "source": [
        "print(aprovados)"
      ],
      "execution_count": 45,
      "outputs": [
        {
          "output_type": "stream",
          "text": [
            "['C', 'D']\n"
          ],
          "name": "stdout"
        }
      ]
    },
    {
      "cell_type": "code",
      "metadata": {
        "colab": {
          "base_uri": "https://localhost:8080/"
        },
        "id": "DOEy0LLfXZeX",
        "outputId": "9d865b2e-ae44-427c-9985-e0df674e048d"
      },
      "source": [
        "print(reprovados)"
      ],
      "execution_count": 46,
      "outputs": [
        {
          "output_type": "stream",
          "text": [
            "['A', 'B', 'E']\n"
          ],
          "name": "stdout"
        }
      ]
    }
  ]
}