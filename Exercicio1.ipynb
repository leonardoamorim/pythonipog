{
  "nbformat": 4,
  "nbformat_minor": 0,
  "metadata": {
    "colab": {
      "name": "Exercicio1.ipynb",
      "provenance": [],
      "collapsed_sections": []
    },
    "kernelspec": {
      "name": "python3",
      "display_name": "Python 3"
    }
  },
  "cells": [
    {
      "cell_type": "code",
      "metadata": {
        "colab": {
          "base_uri": "https://localhost:8080/"
        },
        "id": "HsD_Jpf39nXt",
        "outputId": "09e72cbc-086b-4fba-b5db-6a86909d64a7"
      },
      "source": [
        "nome = input(\"Digite o nome do aluno \")"
      ],
      "execution_count": 43,
      "outputs": [
        {
          "output_type": "stream",
          "text": [
            "Digite o nome do aluno Leo\n"
          ],
          "name": "stdout"
        }
      ]
    },
    {
      "cell_type": "code",
      "metadata": {
        "colab": {
          "base_uri": "https://localhost:8080/"
        },
        "id": "6eBBN63L90Q5",
        "outputId": "6c371fc7-8d03-4955-a764-2b29c97b4a85"
      },
      "source": [
        "nota = input(\"Digite a nota \")"
      ],
      "execution_count": 44,
      "outputs": [
        {
          "output_type": "stream",
          "text": [
            "Digite a nota 10\n"
          ],
          "name": "stdout"
        }
      ]
    },
    {
      "cell_type": "code",
      "metadata": {
        "id": "C6VePFz7GSmc"
      },
      "source": [
        "nota = float(nota)"
      ],
      "execution_count": 45,
      "outputs": []
    },
    {
      "cell_type": "code",
      "metadata": {
        "colab": {
          "base_uri": "https://localhost:8080/"
        },
        "id": "pRen0jnm-ggj",
        "outputId": "4f3b1f38-4ed3-4fed-ed32-4281f26cbcef"
      },
      "source": [
        "if nota >= 7:\n",
        "  print(\"Parabéns \" + nome + \", você foi aprovado com nota \" + str(nota))\n",
        "elif 5 < nota < 7:\n",
        "  print(nome + \": Recuperação\")\n",
        "else:\n",
        "  print(nome + \": Reprovado\")"
      ],
      "execution_count": 46,
      "outputs": [
        {
          "output_type": "stream",
          "text": [
            "Parabéns Leo, você foi aprovado com nota 10.0\n"
          ],
          "name": "stdout"
        }
      ]
    },
    {
      "cell_type": "code",
      "metadata": {
        "colab": {
          "base_uri": "https://localhost:8080/"
        },
        "id": "TxboYfGE_-vl",
        "outputId": "b0e0fe20-7f2b-402a-fb34-4fd868cfb637"
      },
      "source": [
        "print(nota)"
      ],
      "execution_count": 47,
      "outputs": [
        {
          "output_type": "stream",
          "text": [
            "10.0\n"
          ],
          "name": "stdout"
        }
      ]
    },
    {
      "cell_type": "code",
      "metadata": {
        "colab": {
          "base_uri": "https://localhost:8080/"
        },
        "id": "273s47jXAq6h",
        "outputId": "38d107b9-deba-4fbd-ae2b-3597df79d270"
      },
      "source": [
        "5 + 5"
      ],
      "execution_count": 48,
      "outputs": [
        {
          "output_type": "execute_result",
          "data": {
            "text/plain": [
              "10"
            ]
          },
          "metadata": {
            "tags": []
          },
          "execution_count": 48
        }
      ]
    },
    {
      "cell_type": "code",
      "metadata": {
        "colab": {
          "base_uri": "https://localhost:8080/",
          "height": 35
        },
        "id": "33nTAjRNAtFY",
        "outputId": "ed086f7e-e5a7-4e57-e99e-328d7577da3c"
      },
      "source": [
        "'Leo' + 'nardo'"
      ],
      "execution_count": 49,
      "outputs": [
        {
          "output_type": "execute_result",
          "data": {
            "application/vnd.google.colaboratory.intrinsic+json": {
              "type": "string"
            },
            "text/plain": [
              "'Leonardo'"
            ]
          },
          "metadata": {
            "tags": []
          },
          "execution_count": 49
        }
      ]
    }
  ]
}